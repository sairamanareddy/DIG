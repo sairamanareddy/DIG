{
 "cells": [
  {
   "cell_type": "markdown",
   "metadata": {},
   "source": [
    "## Example of GRACE"
   ]
  },
  {
   "cell_type": "markdown",
   "metadata": {},
   "source": [
    "### Node-level representation learning on CORA"
   ]
  },
  {
   "cell_type": "code",
   "execution_count": 1,
   "metadata": {},
   "outputs": [
    {
     "name": "stderr",
     "output_type": "stream",
     "text": [
      "/home/grads/s/sairamana/miniconda3/envs/dig/lib/python3.8/site-packages/tqdm/auto.py:22: TqdmWarning: IProgress not found. Please update jupyter and ipywidgets. See https://ipywidgets.readthedocs.io/en/stable/user_install.html\n",
      "  from .autonotebook import tqdm as notebook_tqdm\n"
     ]
    }
   ],
   "source": [
    "from dig.sslgraph.utils import Encoder\n",
    "from dig.sslgraph.evaluation import NodeUnsupervised\n",
    "from dig.sslgraph.dataset import get_node_dataset\n",
    "from dig.sslgraph.method import pGRACE\n",
    "from dig.sslgraph.utils.pgrace import generate_split"
   ]
  },
  {
   "cell_type": "markdown",
   "metadata": {},
   "source": [
    "#### Loading dataset"
   ]
  },
  {
   "cell_type": "code",
   "execution_count": 2,
   "metadata": {},
   "outputs": [],
   "source": [
    "from torch_geometric.datasets import Planetoid, CitationFull, WikiCS, Coauthor, Amazon\n",
    "import torch_geometric.transforms as T\n",
    "import torch\n",
    "path = '/tmp/dig-experiments/'\n",
    "dataset = Amazon(root=path, name='Photo', transform=T.NormalizeFeatures())\n",
    "device = torch.device('cuda:0')\n",
    "data = dataset[0].to(device=device)"
   ]
  },
  {
   "cell_type": "code",
   "execution_count": 3,
   "metadata": {},
   "outputs": [],
   "source": [
    "split = generate_split(data.num_nodes, train_ratio = 0.1, val_ratio = 0.1)"
   ]
  },
  {
   "cell_type": "markdown",
   "metadata": {},
   "source": [
    "#### Define encoders and contrastive model\n",
    "\n",
    "You can refer to [https://github.com/CRIPAC-DIG/GRACE/blob/master/config.yaml](https://github.com/CRIPAC-DIG/GRACE/blob/master/config.yaml) for detailed training configs.\n",
    "\n",
    "***Note***: Results in the GRACE paper uses different training-test splits to the public splits, due to which you may see different results in DIG and the original implementation of GRACE."
   ]
  },
  {
   "cell_type": "code",
   "execution_count": 4,
   "metadata": {},
   "outputs": [],
   "source": [
    "embed_dim = 256\n",
    "encoder = Encoder(feat_dim=dataset[0].x.shape[1], hidden_dim=embed_dim, \n",
    "                  n_layers=2, gnn='gcn', act='relu', node_level=True, graph_level=False).to(device)\n",
    "grace = pGRACE(dim=embed_dim, prob_edge_1 = 0.3, prob_edge_2 = 0.5, prob_feature_1 = 0.1, prob_feature_2 = 0.1, p_tau=0.7, tau=0.1).to(device)"
   ]
  },
  {
   "cell_type": "code",
   "execution_count": 7,
   "metadata": {},
   "outputs": [
    {
     "name": "stderr",
     "output_type": "stream",
     "text": [
      "Pretraining: epoch 38:   2%|▏         | 37/2000 [00:16<14:33,  2.25it/s, loss=6.305740]\n"
     ]
    },
    {
     "ename": "RuntimeError",
     "evalue": "size mismatch, got 745, 745x7650,7649",
     "output_type": "error",
     "traceback": [
      "\u001b[0;31m---------------------------------------------------------------------------\u001b[0m",
      "\u001b[0;31mRuntimeError\u001b[0m                              Traceback (most recent call last)",
      "\u001b[1;32m/home/grads/s/sairamana/DIG/examples/sslgraph/example_grace.ipynb Cell 9\u001b[0m in \u001b[0;36m<cell line: 3>\u001b[0;34m()\u001b[0m\n\u001b[1;32m      <a href='vscode-notebook-cell://ssh-remote%2Bdive1.engr.tamu.edu/home/grads/s/sairamana/DIG/examples/sslgraph/example_grace.ipynb#X11sdnNjb2RlLXJlbW90ZQ%3D%3D?line=0'>1</a>\u001b[0m evaluator \u001b[39m=\u001b[39m NodeUnsupervised(dataset, train_mask\u001b[39m=\u001b[39msplit[\u001b[39m0\u001b[39m], test_mask \u001b[39m=\u001b[39m split[\u001b[39m1\u001b[39m], val_mask \u001b[39m=\u001b[39m split[\u001b[39m2\u001b[39m], device\u001b[39m=\u001b[39m\u001b[39m0\u001b[39m, log_interval\u001b[39m=\u001b[39m\u001b[39m100\u001b[39m)\n\u001b[1;32m      <a href='vscode-notebook-cell://ssh-remote%2Bdive1.engr.tamu.edu/home/grads/s/sairamana/DIG/examples/sslgraph/example_grace.ipynb#X11sdnNjb2RlLXJlbW90ZQ%3D%3D?line=1'>2</a>\u001b[0m evaluator\u001b[39m.\u001b[39msetup_train_config(p_lr\u001b[39m=\u001b[39m\u001b[39m0.1\u001b[39m, p_epoch\u001b[39m=\u001b[39m\u001b[39m2000\u001b[39m, p_weight_decay\u001b[39m=\u001b[39m\u001b[39m1e-5\u001b[39m, comp_embed_on\u001b[39m=\u001b[39m\u001b[39m'\u001b[39m\u001b[39mcuda:0\u001b[39m\u001b[39m'\u001b[39m)\n\u001b[0;32m----> <a href='vscode-notebook-cell://ssh-remote%2Bdive1.engr.tamu.edu/home/grads/s/sairamana/DIG/examples/sslgraph/example_grace.ipynb#X11sdnNjb2RlLXJlbW90ZQ%3D%3D?line=2'>3</a>\u001b[0m evaluator\u001b[39m.\u001b[39;49mevaluate(learning_model\u001b[39m=\u001b[39;49mgrace, encoder\u001b[39m=\u001b[39;49mencoder)\n",
      "File \u001b[0;32m~/miniconda3/envs/dig/lib/python3.8/site-packages/dive_into_graphs-1.0.0-py3.8.egg/dig/sslgraph/evaluation/eval_node.py:120\u001b[0m, in \u001b[0;36mNodeUnsupervised.evaluate\u001b[0;34m(self, learning_model, encoder)\u001b[0m\n\u001b[1;32m    118\u001b[0m test_scores_m, test_scores_sd \u001b[39m=\u001b[39m [], []\n\u001b[1;32m    119\u001b[0m per_epoch_out \u001b[39m=\u001b[39m (\u001b[39mself\u001b[39m\u001b[39m.\u001b[39mlog_interval\u001b[39m<\u001b[39m\u001b[39mself\u001b[39m\u001b[39m.\u001b[39mp_epoch)\n\u001b[0;32m--> 120\u001b[0m \u001b[39mfor\u001b[39;00m i, enc \u001b[39min\u001b[39;00m \u001b[39menumerate\u001b[39m(learning_model\u001b[39m.\u001b[39mtrain(encoder, full_loader, \n\u001b[1;32m    121\u001b[0m                                              p_optimizer, \u001b[39mself\u001b[39m\u001b[39m.\u001b[39mp_epoch, per_epoch_out)):\n\u001b[1;32m    122\u001b[0m     \u001b[39mif\u001b[39;00m \u001b[39mnot\u001b[39;00m per_epoch_out \u001b[39mor\u001b[39;00m (i\u001b[39m+\u001b[39m\u001b[39m1\u001b[39m)\u001b[39m%\u001b[39m\u001b[39mself\u001b[39m\u001b[39m.\u001b[39mlog_interval\u001b[39m==\u001b[39m\u001b[39m0\u001b[39m:\n\u001b[1;32m    123\u001b[0m         embed, lbls \u001b[39m=\u001b[39m \u001b[39mself\u001b[39m\u001b[39m.\u001b[39mget_embed(enc\u001b[39m.\u001b[39mto(\u001b[39mself\u001b[39m\u001b[39m.\u001b[39mdevice), full_loader)\n",
      "File \u001b[0;32m~/miniconda3/envs/dig/lib/python3.8/site-packages/dive_into_graphs-1.0.0-py3.8.egg/dig/sslgraph/method/contrastive/model/pgrace.py:43\u001b[0m, in \u001b[0;36mpGRACE.train\u001b[0;34m(self, encoders, data_loader, optimizer, epochs, per_epoch_out)\u001b[0m\n\u001b[1;32m     41\u001b[0m \u001b[39mdef\u001b[39;00m \u001b[39mtrain\u001b[39m(\u001b[39mself\u001b[39m, encoders, data_loader, optimizer, epochs, per_epoch_out\u001b[39m=\u001b[39m\u001b[39mFalse\u001b[39;00m):\n\u001b[1;32m     42\u001b[0m     \u001b[39m# GRACE removes projection heads after pre-training\u001b[39;00m\n\u001b[0;32m---> 43\u001b[0m     \u001b[39mfor\u001b[39;00m enc, proj \u001b[39min\u001b[39;00m \u001b[39msuper\u001b[39m()\u001b[39m.\u001b[39mtrain(encoders, data_loader, \n\u001b[1;32m     44\u001b[0m                                    optimizer, epochs, per_epoch_out):\n\u001b[1;32m     45\u001b[0m         \u001b[39myield\u001b[39;00m enc\n",
      "File \u001b[0;32m~/miniconda3/envs/dig/lib/python3.8/site-packages/dive_into_graphs-1.0.0-py3.8.egg/dig/sslgraph/method/contrastive/model/contrastive.py:140\u001b[0m, in \u001b[0;36mContrastive.train\u001b[0;34m(self, encoder, data_loader, optimizer, epochs, per_epoch_out)\u001b[0m\n\u001b[1;32m    137\u001b[0m \u001b[39melse\u001b[39;00m:\n\u001b[1;32m    138\u001b[0m     train_fn \u001b[39m=\u001b[39m \u001b[39mself\u001b[39m\u001b[39m.\u001b[39mtrain_encoder_node\n\u001b[0;32m--> 140\u001b[0m \u001b[39mfor\u001b[39;00m enc \u001b[39min\u001b[39;00m train_fn(encoder, data_loader, optimizer, epochs):\n\u001b[1;32m    141\u001b[0m     \u001b[39myield\u001b[39;00m enc\n",
      "File \u001b[0;32m~/miniconda3/envs/dig/lib/python3.8/site-packages/dive_into_graphs-1.0.0-py3.8.egg/dig/sslgraph/method/contrastive/model/contrastive.py:254\u001b[0m, in \u001b[0;36mContrastive.train_encoder_node\u001b[0;34m(self, encoder, data_loader, optimizer, epochs)\u001b[0m\n\u001b[1;32m    252\u001b[0m             views \u001b[39m+\u001b[39m\u001b[39m=\u001b[39m [\u001b[39m*\u001b[39mv_fn(data)]\n\u001b[1;32m    253\u001b[0m \u001b[39melse\u001b[39;00m:\n\u001b[0;32m--> 254\u001b[0m     views \u001b[39m=\u001b[39m [v_fn(data) \u001b[39mfor\u001b[39;00m v_fn \u001b[39min\u001b[39;00m \u001b[39mself\u001b[39m\u001b[39m.\u001b[39mviews_fn]\n\u001b[1;32m    256\u001b[0m zs_n \u001b[39m=\u001b[39m []\n\u001b[1;32m    257\u001b[0m \u001b[39mfor\u001b[39;00m view, enc \u001b[39min\u001b[39;00m \u001b[39mzip\u001b[39m(views, encoders):\n",
      "File \u001b[0;32m~/miniconda3/envs/dig/lib/python3.8/site-packages/dive_into_graphs-1.0.0-py3.8.egg/dig/sslgraph/method/contrastive/model/contrastive.py:254\u001b[0m, in \u001b[0;36m<listcomp>\u001b[0;34m(.0)\u001b[0m\n\u001b[1;32m    252\u001b[0m             views \u001b[39m+\u001b[39m\u001b[39m=\u001b[39m [\u001b[39m*\u001b[39mv_fn(data)]\n\u001b[1;32m    253\u001b[0m \u001b[39melse\u001b[39;00m:\n\u001b[0;32m--> 254\u001b[0m     views \u001b[39m=\u001b[39m [v_fn(data) \u001b[39mfor\u001b[39;00m v_fn \u001b[39min\u001b[39;00m \u001b[39mself\u001b[39m\u001b[39m.\u001b[39mviews_fn]\n\u001b[1;32m    256\u001b[0m zs_n \u001b[39m=\u001b[39m []\n\u001b[1;32m    257\u001b[0m \u001b[39mfor\u001b[39;00m view, enc \u001b[39min\u001b[39;00m \u001b[39mzip\u001b[39m(views, encoders):\n",
      "File \u001b[0;32m~/miniconda3/envs/dig/lib/python3.8/site-packages/dive_into_graphs-1.0.0-py3.8.egg/dig/sslgraph/method/contrastive/views_fn/combination.py:50\u001b[0m, in \u001b[0;36mSequential.__call__\u001b[0;34m(self, data)\u001b[0m\n\u001b[1;32m     49\u001b[0m \u001b[39mdef\u001b[39;00m \u001b[39m__call__\u001b[39m(\u001b[39mself\u001b[39m, data):\n\u001b[0;32m---> 50\u001b[0m     \u001b[39mreturn\u001b[39;00m \u001b[39mself\u001b[39;49m\u001b[39m.\u001b[39;49mviews_fn(data)\n",
      "File \u001b[0;32m~/miniconda3/envs/dig/lib/python3.8/site-packages/dive_into_graphs-1.0.0-py3.8.egg/dig/sslgraph/method/contrastive/views_fn/combination.py:61\u001b[0m, in \u001b[0;36mSequential.views_fn\u001b[0;34m(self, data)\u001b[0m\n\u001b[1;32m     53\u001b[0m \u001b[39mr\u001b[39m\u001b[39m\"\"\"Method to be called when :class:`Sequential` object is called.\u001b[39;00m\n\u001b[1;32m     54\u001b[0m \u001b[39m\u001b[39;00m\n\u001b[1;32m     55\u001b[0m \u001b[39mArgs:\u001b[39;00m\n\u001b[0;32m   (...)\u001b[0m\n\u001b[1;32m     58\u001b[0m \u001b[39m:rtype: :class:`torch_geometric.data.Data`.  \u001b[39;00m\n\u001b[1;32m     59\u001b[0m \u001b[39m\"\"\"\u001b[39;00m\n\u001b[1;32m     60\u001b[0m \u001b[39mfor\u001b[39;00m fn \u001b[39min\u001b[39;00m \u001b[39mself\u001b[39m\u001b[39m.\u001b[39mfn_sequence:\n\u001b[0;32m---> 61\u001b[0m     data \u001b[39m=\u001b[39m fn(data)\n\u001b[1;32m     63\u001b[0m \u001b[39mreturn\u001b[39;00m data\n",
      "File \u001b[0;32m~/miniconda3/envs/dig/lib/python3.8/site-packages/dive_into_graphs-1.0.0-py3.8.egg/dig/sslgraph/method/contrastive/views_fn/feature.py:111\u001b[0m, in \u001b[0;36mGCANodeAttrMask.__call__\u001b[0;34m(self, data)\u001b[0m\n\u001b[1;32m    110\u001b[0m \u001b[39mdef\u001b[39;00m \u001b[39m__call__\u001b[39m(\u001b[39mself\u001b[39m, data):\n\u001b[0;32m--> 111\u001b[0m     \u001b[39mreturn\u001b[39;00m \u001b[39mself\u001b[39;49m\u001b[39m.\u001b[39;49mviews_fn(data)\n",
      "File \u001b[0;32m~/miniconda3/envs/dig/lib/python3.8/site-packages/dive_into_graphs-1.0.0-py3.8.egg/dig/sslgraph/method/contrastive/views_fn/feature.py:156\u001b[0m, in \u001b[0;36mGCANodeAttrMask.views_fn\u001b[0;34m(self, data)\u001b[0m\n\u001b[1;32m    148\u001b[0m \u001b[39mr\u001b[39m\u001b[39m\"\"\"Method to be called when :class:`GCANodeAttrMask` object is called.\u001b[39;00m\n\u001b[1;32m    149\u001b[0m \u001b[39m\u001b[39;00m\n\u001b[1;32m    150\u001b[0m \u001b[39mArgs:\u001b[39;00m\n\u001b[0;32m   (...)\u001b[0m\n\u001b[1;32m    153\u001b[0m \u001b[39m:rtype: :class:`torch_geometric.data.Data`.  \u001b[39;00m\n\u001b[1;32m    154\u001b[0m \u001b[39m\"\"\"\u001b[39;00m\n\u001b[1;32m    155\u001b[0m \u001b[39mif\u001b[39;00m \u001b[39misinstance\u001b[39m(data, Batch):\n\u001b[0;32m--> 156\u001b[0m     dlist \u001b[39m=\u001b[39m [\u001b[39mself\u001b[39m\u001b[39m.\u001b[39mdo_trans(d) \u001b[39mfor\u001b[39;00m d \u001b[39min\u001b[39;00m data\u001b[39m.\u001b[39mto_data_list()]\n\u001b[1;32m    157\u001b[0m     \u001b[39mreturn\u001b[39;00m Batch\u001b[39m.\u001b[39mfrom_data_list(dlist)\n\u001b[1;32m    158\u001b[0m \u001b[39melif\u001b[39;00m \u001b[39misinstance\u001b[39m(data, Data):\n",
      "File \u001b[0;32m~/miniconda3/envs/dig/lib/python3.8/site-packages/dive_into_graphs-1.0.0-py3.8.egg/dig/sslgraph/method/contrastive/views_fn/feature.py:156\u001b[0m, in \u001b[0;36m<listcomp>\u001b[0;34m(.0)\u001b[0m\n\u001b[1;32m    148\u001b[0m \u001b[39mr\u001b[39m\u001b[39m\"\"\"Method to be called when :class:`GCANodeAttrMask` object is called.\u001b[39;00m\n\u001b[1;32m    149\u001b[0m \u001b[39m\u001b[39;00m\n\u001b[1;32m    150\u001b[0m \u001b[39mArgs:\u001b[39;00m\n\u001b[0;32m   (...)\u001b[0m\n\u001b[1;32m    153\u001b[0m \u001b[39m:rtype: :class:`torch_geometric.data.Data`.  \u001b[39;00m\n\u001b[1;32m    154\u001b[0m \u001b[39m\"\"\"\u001b[39;00m\n\u001b[1;32m    155\u001b[0m \u001b[39mif\u001b[39;00m \u001b[39misinstance\u001b[39m(data, Batch):\n\u001b[0;32m--> 156\u001b[0m     dlist \u001b[39m=\u001b[39m [\u001b[39mself\u001b[39;49m\u001b[39m.\u001b[39;49mdo_trans(d) \u001b[39mfor\u001b[39;00m d \u001b[39min\u001b[39;00m data\u001b[39m.\u001b[39mto_data_list()]\n\u001b[1;32m    157\u001b[0m     \u001b[39mreturn\u001b[39;00m Batch\u001b[39m.\u001b[39mfrom_data_list(dlist)\n\u001b[1;32m    158\u001b[0m \u001b[39melif\u001b[39;00m \u001b[39misinstance\u001b[39m(data, Data):\n",
      "File \u001b[0;32m~/miniconda3/envs/dig/lib/python3.8/site-packages/dive_into_graphs-1.0.0-py3.8.egg/dig/sslgraph/method/contrastive/views_fn/feature.py:138\u001b[0m, in \u001b[0;36mGCANodeAttrMask.do_trans\u001b[0;34m(self, data)\u001b[0m\n\u001b[1;32m    136\u001b[0m     feature_weights \u001b[39m=\u001b[39m feature_drop_weights_dense(data\u001b[39m.\u001b[39mx, node_c)\u001b[39m.\u001b[39mto(x\u001b[39m.\u001b[39mdevice)\n\u001b[1;32m    137\u001b[0m \u001b[39melse\u001b[39;00m:\n\u001b[0;32m--> 138\u001b[0m     feature_weights \u001b[39m=\u001b[39m feature_drop_weights(data\u001b[39m.\u001b[39;49mx, node_c)\u001b[39m.\u001b[39mto(x\u001b[39m.\u001b[39mdevice)\n\u001b[1;32m    139\u001b[0m x \u001b[39m=\u001b[39m drop_feature_weighted_2(x, feature_weights, p \u001b[39m=\u001b[39m \u001b[39mself\u001b[39m\u001b[39m.\u001b[39mprob, threshold \u001b[39m=\u001b[39m \u001b[39mself\u001b[39m\u001b[39m.\u001b[39mthreshold)\u001b[39m.\u001b[39mto(x\u001b[39m.\u001b[39mdevice)\n\u001b[1;32m    140\u001b[0m \u001b[39mif\u001b[39;00m \u001b[39mself\u001b[39m\u001b[39m.\u001b[39mreturn_mask:\n",
      "File \u001b[0;32m~/miniconda3/envs/dig/lib/python3.8/site-packages/dive_into_graphs-1.0.0-py3.8.egg/dig/sslgraph/utils/pgrace.py:65\u001b[0m, in \u001b[0;36mfeature_drop_weights\u001b[0;34m(x, node_c)\u001b[0m\n\u001b[1;32m     63\u001b[0m \u001b[39mdef\u001b[39;00m \u001b[39mfeature_drop_weights\u001b[39m(x, node_c):\n\u001b[1;32m     64\u001b[0m     x \u001b[39m=\u001b[39m x\u001b[39m.\u001b[39mto(torch\u001b[39m.\u001b[39mbool)\u001b[39m.\u001b[39mto(torch\u001b[39m.\u001b[39mfloat32)\n\u001b[0;32m---> 65\u001b[0m     w \u001b[39m=\u001b[39m x\u001b[39m.\u001b[39;49mt() \u001b[39m@\u001b[39;49m node_c\n\u001b[1;32m     66\u001b[0m     w \u001b[39m=\u001b[39m w\u001b[39m.\u001b[39mlog()\n\u001b[1;32m     67\u001b[0m     s \u001b[39m=\u001b[39m (w\u001b[39m.\u001b[39mmax() \u001b[39m-\u001b[39m w) \u001b[39m/\u001b[39m (w\u001b[39m.\u001b[39mmax() \u001b[39m-\u001b[39m w\u001b[39m.\u001b[39mmean())\n",
      "\u001b[0;31mRuntimeError\u001b[0m: size mismatch, got 745, 745x7650,7649"
     ]
    }
   ],
   "source": [
    "evaluator = NodeUnsupervised(dataset, train_mask=split[0], test_mask = split[1], val_mask = split[2], device=0, log_interval=100)\n",
    "evaluator.setup_train_config(p_lr=0.1, p_epoch=2000, p_weight_decay=1e-5, comp_embed_on='cuda:0')\n",
    "evaluator.evaluate(learning_model=grace, encoder=encoder)"
   ]
  }
 ],
 "metadata": {
  "kernelspec": {
   "display_name": "Python 3 (ipykernel)",
   "language": "python",
   "name": "python3"
  },
  "language_info": {
   "codemirror_mode": {
    "name": "ipython",
    "version": 3
   },
   "file_extension": ".py",
   "mimetype": "text/x-python",
   "name": "python",
   "nbconvert_exporter": "python",
   "pygments_lexer": "ipython3",
   "version": "3.8.13"
  },
  "vscode": {
   "interpreter": {
    "hash": "d5962a8b8bf6be38a81c8e74c2c1db862d6ebcdd5e7f00c50042538ecb3f9c2f"
   }
  }
 },
 "nbformat": 4,
 "nbformat_minor": 4
}
