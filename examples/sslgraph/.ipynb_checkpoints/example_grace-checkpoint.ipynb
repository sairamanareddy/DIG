{
 "cells": [
  {
   "cell_type": "markdown",
   "metadata": {},
   "source": [
    "## Example of GRACE"
   ]
  },
  {
   "cell_type": "markdown",
   "metadata": {},
   "source": [
    "### Node-level representation learning on CORA"
   ]
  },
  {
   "cell_type": "code",
   "execution_count": 6,
   "metadata": {},
   "outputs": [],
   "source": [
    "from dig.sslgraph.utils import Encoder\n",
    "from dig.sslgraph.evaluation import NodeUnsupervised\n",
    "from dig.sslgraph.dataset import get_node_dataset\n",
    "from dig.sslgraph.method import pGRACE\n",
    "from dig.sslgraph.utils.pgrace import generate_split"
   ]
  },
  {
   "cell_type": "markdown",
   "metadata": {},
   "source": [
    "#### Loading dataset"
   ]
  },
  {
   "cell_type": "code",
   "execution_count": 2,
   "metadata": {},
   "outputs": [],
   "source": [
    "from torch_geometric.datasets import Planetoid, CitationFull, WikiCS, Coauthor, Amazon\n",
    "import torch_geometric.transforms as T\n",
    "import torch\n",
    "path = '/tmp/dig-experiments/'\n",
    "dataset = Amazon(root=path, name='computers', transform=T.NormalizeFeatures())\n",
    "device = torch.device('cuda:0')\n",
    "data = dataset[0].to(device=device)"
   ]
  },
  {
   "cell_type": "code",
   "execution_count": 3,
   "metadata": {},
   "outputs": [],
   "source": [
    "split = generate_split(data.num_nodes, train_ratio = 0.8, val_ratio = 0.1)"
   ]
  },
  {
   "cell_type": "markdown",
   "metadata": {},
   "source": [
    "#### Define encoders and contrastive model\n",
    "\n",
    "You can refer to [https://github.com/CRIPAC-DIG/GRACE/blob/master/config.yaml](https://github.com/CRIPAC-DIG/GRACE/blob/master/config.yaml) for detailed training configs.\n",
    "\n",
    "***Note***: Results in the GRACE paper uses different training-test splits to the public splits, due to which you may see different results in DIG and the original implementation of GRACE."
   ]
  },
  {
   "cell_type": "code",
   "execution_count": 4,
   "metadata": {},
   "outputs": [],
   "source": [
    "embed_dim = 128\n",
    "encoder = Encoder(feat_dim=dataset[0].x.shape[1], hidden_dim=embed_dim, \n",
    "                  n_layers=2, gnn='gcn', node_level=True, graph_level=False).to(device)\n",
    "grace = pGRACE(dim=128, prob_edge_1 = 0.5, prob_edge_2 = 0.5, prob_feature_1 = 0.2, prob_feature_2 = 0.1).to(device)"
   ]
  },
  {
   "cell_type": "code",
   "execution_count": 5,
   "metadata": {},
   "outputs": [
    {
     "name": "stderr",
     "output_type": "stream",
     "text": [
      "Pretraining: epoch 1500: 100%|██████████| 1500/1500 [18:17<00:00,  1.37it/s, loss=4.852121]"
     ]
    },
    {
     "name": "stdout",
     "output_type": "stream",
     "text": [
      "Best epoch 1500: acc 0.8018 (+/- 0.0007).\n"
     ]
    },
    {
     "name": "stderr",
     "output_type": "stream",
     "text": [
      "\n"
     ]
    },
    {
     "data": {
      "text/plain": [
       "0.8017814755439758"
      ]
     },
     "execution_count": 5,
     "metadata": {},
     "output_type": "execute_result"
    }
   ],
   "source": [
    "evaluator = NodeUnsupervised(dataset, train_mask=split[0], test_mask = split[1], val_mask = split[2], device=0, log_interval=100)\n",
    "evaluator.setup_train_config(p_lr=0.01, p_epoch=1500, p_weight_decay=1e-5, comp_embed_on='cuda:0')\n",
    "evaluator.evaluate(learning_model=grace, encoder=encoder)"
   ]
  }
 ],
 "metadata": {
  "kernelspec": {
   "display_name": "Python 3 (ipykernel)",
   "language": "python",
   "name": "python3"
  },
  "language_info": {
   "codemirror_mode": {
    "name": "ipython",
    "version": 3
   },
   "file_extension": ".py",
   "mimetype": "text/x-python",
   "name": "python",
   "nbconvert_exporter": "python",
   "pygments_lexer": "ipython3",
   "version": "3.8.13"
  },
  "vscode": {
   "interpreter": {
    "hash": "d5962a8b8bf6be38a81c8e74c2c1db862d6ebcdd5e7f00c50042538ecb3f9c2f"
   }
  }
 },
 "nbformat": 4,
 "nbformat_minor": 4
}
